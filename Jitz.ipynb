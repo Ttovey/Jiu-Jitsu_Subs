{
 "cells": [
  {
   "cell_type": "code",
   "execution_count": 178,
   "metadata": {},
   "outputs": [],
   "source": [
    "import pandas as pd\n",
    "import numpy as np\n",
    "from matplotlib import pyplot as plt"
   ]
  },
  {
   "cell_type": "code",
   "execution_count": 179,
   "metadata": {},
   "outputs": [],
   "source": [
    "jitz = pd.read_csv(r\"C:\\Users\\tanne\\Programming\\DataSets\\All Submission Only Data - Master Submission Only Data Adult.csv\")"
   ]
  },
  {
   "cell_type": "code",
   "execution_count": 180,
   "metadata": {},
   "outputs": [
    {
     "data": {
      "text/html": [
       "<div>\n",
       "<style scoped>\n",
       "    .dataframe tbody tr th:only-of-type {\n",
       "        vertical-align: middle;\n",
       "    }\n",
       "\n",
       "    .dataframe tbody tr th {\n",
       "        vertical-align: top;\n",
       "    }\n",
       "\n",
       "    .dataframe thead th {\n",
       "        text-align: right;\n",
       "    }\n",
       "</style>\n",
       "<table border=\"1\" class=\"dataframe\">\n",
       "  <thead>\n",
       "    <tr style=\"text-align: right;\">\n",
       "      <th></th>\n",
       "      <th>Hours</th>\n",
       "      <th>Minutes</th>\n",
       "      <th>Seconds</th>\n",
       "      <th>Total Seconds</th>\n",
       "      <th>Gi/No Gi</th>\n",
       "      <th>Belt/Skill</th>\n",
       "      <th>Division</th>\n",
       "      <th>submission</th>\n",
       "      <th>Unnamed: 8</th>\n",
       "    </tr>\n",
       "  </thead>\n",
       "  <tbody>\n",
       "    <tr>\n",
       "      <th>0</th>\n",
       "      <td>NaN</td>\n",
       "      <td>NaN</td>\n",
       "      <td>5.0</td>\n",
       "      <td>5.0</td>\n",
       "      <td>Gi</td>\n",
       "      <td>Blue</td>\n",
       "      <td>Men</td>\n",
       "      <td>Straight ankle</td>\n",
       "      <td>Master Average: 506 seconds</td>\n",
       "    </tr>\n",
       "    <tr>\n",
       "      <th>1</th>\n",
       "      <td>NaN</td>\n",
       "      <td>NaN</td>\n",
       "      <td>7.0</td>\n",
       "      <td>7.0</td>\n",
       "      <td>No Gi</td>\n",
       "      <td>Advanced</td>\n",
       "      <td>Men</td>\n",
       "      <td>brabo</td>\n",
       "      <td>NaN</td>\n",
       "    </tr>\n",
       "    <tr>\n",
       "      <th>2</th>\n",
       "      <td>NaN</td>\n",
       "      <td>NaN</td>\n",
       "      <td>8.0</td>\n",
       "      <td>8.0</td>\n",
       "      <td>gi</td>\n",
       "      <td>white</td>\n",
       "      <td>30+ Men</td>\n",
       "      <td>Armbar</td>\n",
       "      <td>Data through Sub Only Richmond December 2018</td>\n",
       "    </tr>\n",
       "    <tr>\n",
       "      <th>3</th>\n",
       "      <td>NaN</td>\n",
       "      <td>NaN</td>\n",
       "      <td>9.0</td>\n",
       "      <td>9.0</td>\n",
       "      <td>Gi</td>\n",
       "      <td>Brown</td>\n",
       "      <td>Men</td>\n",
       "      <td>Darce</td>\n",
       "      <td>Missing Philly 2018 Sub Only</td>\n",
       "    </tr>\n",
       "    <tr>\n",
       "      <th>4</th>\n",
       "      <td>NaN</td>\n",
       "      <td>NaN</td>\n",
       "      <td>9.0</td>\n",
       "      <td>9.0</td>\n",
       "      <td>Gi</td>\n",
       "      <td>Blue</td>\n",
       "      <td>Men</td>\n",
       "      <td>Straight ankle</td>\n",
       "      <td>NaN</td>\n",
       "    </tr>\n",
       "  </tbody>\n",
       "</table>\n",
       "</div>"
      ],
      "text/plain": [
       "   Hours  Minutes  Seconds  Total Seconds Gi/No Gi Belt/Skill Division  \\\n",
       "0    NaN      NaN      5.0            5.0       Gi       Blue      Men   \n",
       "1    NaN      NaN      7.0            7.0    No Gi   Advanced      Men   \n",
       "2    NaN      NaN      8.0            8.0       gi      white  30+ Men   \n",
       "3    NaN      NaN      9.0            9.0       Gi      Brown      Men   \n",
       "4    NaN      NaN      9.0            9.0       Gi       Blue      Men   \n",
       "\n",
       "       submission                                    Unnamed: 8  \n",
       "0  Straight ankle                  Master Average: 506 seconds   \n",
       "1           brabo                                           NaN  \n",
       "2          Armbar  Data through Sub Only Richmond December 2018  \n",
       "3           Darce                  Missing Philly 2018 Sub Only  \n",
       "4  Straight ankle                                           NaN  "
      ]
     },
     "execution_count": 180,
     "metadata": {},
     "output_type": "execute_result"
    }
   ],
   "source": [
    "jitz.head()"
   ]
  },
  {
   "cell_type": "code",
   "execution_count": 181,
   "metadata": {},
   "outputs": [
    {
     "data": {
      "text/plain": [
       "Hours            6118\n",
       "Minutes           432\n",
       "Seconds           209\n",
       "Total Seconds       1\n",
       "Gi/No Gi            9\n",
       "Belt/Skill          0\n",
       "Division            0\n",
       "submission         41\n",
       "Unnamed: 8       6156\n",
       "dtype: int64"
      ]
     },
     "execution_count": 181,
     "metadata": {},
     "output_type": "execute_result"
    }
   ],
   "source": [
    "jitz.isnull().sum()"
   ]
  },
  {
   "cell_type": "code",
   "execution_count": 182,
   "metadata": {},
   "outputs": [],
   "source": [
    "jitz.drop(['Hours','Minutes','Seconds','Unnamed: 8'], axis=1,inplace=True)"
   ]
  },
  {
   "cell_type": "code",
   "execution_count": 183,
   "metadata": {},
   "outputs": [],
   "source": [
    "jitz.columns = ['time(seconds)','gi/no_gi','belt/skill','division','submission']"
   ]
  },
  {
   "cell_type": "code",
   "execution_count": 184,
   "metadata": {},
   "outputs": [
    {
     "data": {
      "text/html": [
       "<div>\n",
       "<style scoped>\n",
       "    .dataframe tbody tr th:only-of-type {\n",
       "        vertical-align: middle;\n",
       "    }\n",
       "\n",
       "    .dataframe tbody tr th {\n",
       "        vertical-align: top;\n",
       "    }\n",
       "\n",
       "    .dataframe thead th {\n",
       "        text-align: right;\n",
       "    }\n",
       "</style>\n",
       "<table border=\"1\" class=\"dataframe\">\n",
       "  <thead>\n",
       "    <tr style=\"text-align: right;\">\n",
       "      <th></th>\n",
       "      <th>time(seconds)</th>\n",
       "      <th>gi/no_gi</th>\n",
       "      <th>belt/skill</th>\n",
       "      <th>division</th>\n",
       "      <th>submission</th>\n",
       "    </tr>\n",
       "  </thead>\n",
       "  <tbody>\n",
       "    <tr>\n",
       "      <th>0</th>\n",
       "      <td>5.0</td>\n",
       "      <td>Gi</td>\n",
       "      <td>Blue</td>\n",
       "      <td>Men</td>\n",
       "      <td>Straight ankle</td>\n",
       "    </tr>\n",
       "    <tr>\n",
       "      <th>1</th>\n",
       "      <td>7.0</td>\n",
       "      <td>No Gi</td>\n",
       "      <td>Advanced</td>\n",
       "      <td>Men</td>\n",
       "      <td>brabo</td>\n",
       "    </tr>\n",
       "    <tr>\n",
       "      <th>2</th>\n",
       "      <td>8.0</td>\n",
       "      <td>gi</td>\n",
       "      <td>white</td>\n",
       "      <td>30+ Men</td>\n",
       "      <td>Armbar</td>\n",
       "    </tr>\n",
       "    <tr>\n",
       "      <th>3</th>\n",
       "      <td>9.0</td>\n",
       "      <td>Gi</td>\n",
       "      <td>Brown</td>\n",
       "      <td>Men</td>\n",
       "      <td>Darce</td>\n",
       "    </tr>\n",
       "    <tr>\n",
       "      <th>4</th>\n",
       "      <td>9.0</td>\n",
       "      <td>Gi</td>\n",
       "      <td>Blue</td>\n",
       "      <td>Men</td>\n",
       "      <td>Straight ankle</td>\n",
       "    </tr>\n",
       "  </tbody>\n",
       "</table>\n",
       "</div>"
      ],
      "text/plain": [
       "   time(seconds) gi/no_gi belt/skill division      submission\n",
       "0            5.0       Gi       Blue      Men  Straight ankle\n",
       "1            7.0    No Gi   Advanced      Men           brabo\n",
       "2            8.0       gi      white  30+ Men          Armbar\n",
       "3            9.0       Gi      Brown      Men           Darce\n",
       "4            9.0       Gi       Blue      Men  Straight ankle"
      ]
     },
     "execution_count": 184,
     "metadata": {},
     "output_type": "execute_result"
    }
   ],
   "source": [
    "jitz.head()"
   ]
  },
  {
   "cell_type": "code",
   "execution_count": 185,
   "metadata": {},
   "outputs": [
    {
     "name": "stdout",
     "output_type": "stream",
     "text": [
      "<class 'pandas.core.frame.DataFrame'>\n",
      "RangeIndex: 6159 entries, 0 to 6158\n",
      "Data columns (total 5 columns):\n",
      " #   Column         Non-Null Count  Dtype  \n",
      "---  ------         --------------  -----  \n",
      " 0   time(seconds)  6158 non-null   float64\n",
      " 1   gi/no_gi       6150 non-null   object \n",
      " 2   belt/skill     6159 non-null   object \n",
      " 3   division       6159 non-null   object \n",
      " 4   submission     6118 non-null   object \n",
      "dtypes: float64(1), object(4)\n",
      "memory usage: 240.7+ KB\n"
     ]
    }
   ],
   "source": [
    "jitz.info()"
   ]
  },
  {
   "cell_type": "code",
   "execution_count": 186,
   "metadata": {},
   "outputs": [],
   "source": [
    "# As seen above, there are still a few rows with null values in the gi/no_gi column and also in the submission column\n",
    "# These null values will be replaces with NA\n",
    "jitz['gi/no_gi'].fillna('NA',inplace=True)\n",
    "jitz['submission'].fillna('NA',inplace=True)"
   ]
  },
  {
   "cell_type": "code",
   "execution_count": 187,
   "metadata": {},
   "outputs": [
    {
     "data": {
      "text/html": [
       "<div>\n",
       "<style scoped>\n",
       "    .dataframe tbody tr th:only-of-type {\n",
       "        vertical-align: middle;\n",
       "    }\n",
       "\n",
       "    .dataframe tbody tr th {\n",
       "        vertical-align: top;\n",
       "    }\n",
       "\n",
       "    .dataframe thead th {\n",
       "        text-align: right;\n",
       "    }\n",
       "</style>\n",
       "<table border=\"1\" class=\"dataframe\">\n",
       "  <thead>\n",
       "    <tr style=\"text-align: right;\">\n",
       "      <th></th>\n",
       "      <th>time(seconds)</th>\n",
       "      <th>gi/no_gi</th>\n",
       "      <th>belt/skill</th>\n",
       "      <th>division</th>\n",
       "      <th>submission</th>\n",
       "    </tr>\n",
       "  </thead>\n",
       "  <tbody>\n",
       "    <tr>\n",
       "      <th>5562</th>\n",
       "      <td>NaN</td>\n",
       "      <td>No Gi</td>\n",
       "      <td>beginner</td>\n",
       "      <td>men</td>\n",
       "      <td>kneebar</td>\n",
       "    </tr>\n",
       "  </tbody>\n",
       "</table>\n",
       "</div>"
      ],
      "text/plain": [
       "      time(seconds) gi/no_gi belt/skill division submission\n",
       "5562            NaN    No Gi   beginner      men    kneebar"
      ]
     },
     "execution_count": 187,
     "metadata": {},
     "output_type": "execute_result"
    }
   ],
   "source": [
    "# Now we just have to deal with the one null value in the time column, since the division is 'men' I will\n",
    "# replace the null value with the average time where division == 'men'\n",
    "jitz[jitz.isna().any(axis=1)]"
   ]
  },
  {
   "cell_type": "code",
   "execution_count": 188,
   "metadata": {},
   "outputs": [],
   "source": [
    "men = jitz[jitz['division'] == 'men']\n",
    "jitz['time(seconds)'].fillna(men['time(seconds)'].mean(),inplace=True)"
   ]
  },
  {
   "cell_type": "code",
   "execution_count": 189,
   "metadata": {},
   "outputs": [
    {
     "name": "stdout",
     "output_type": "stream",
     "text": [
      "<class 'pandas.core.frame.DataFrame'>\n",
      "RangeIndex: 6159 entries, 0 to 6158\n",
      "Data columns (total 5 columns):\n",
      " #   Column         Non-Null Count  Dtype  \n",
      "---  ------         --------------  -----  \n",
      " 0   time(seconds)  6159 non-null   float64\n",
      " 1   gi/no_gi       6159 non-null   object \n",
      " 2   belt/skill     6159 non-null   object \n",
      " 3   division       6159 non-null   object \n",
      " 4   submission     6159 non-null   object \n",
      "dtypes: float64(1), object(4)\n",
      "memory usage: 240.7+ KB\n"
     ]
    }
   ],
   "source": [
    "jitz.info()"
   ]
  },
  {
   "cell_type": "markdown",
   "metadata": {},
   "source": [
    "All the null values are gone, we will now move onto correcting the text in the other columns. Mainly the submission column which contains a varied names and other differences that will make it hard to analyze that column."
   ]
  },
  {
   "cell_type": "code",
   "execution_count": 190,
   "metadata": {},
   "outputs": [
    {
     "data": {
      "text/plain": [
       "array(['Gi', 'No Gi', 'gi', 'no gi', 'No GI ', 'Gi ', 'gi ', 'NA',\n",
       "       'No Gi ', 'No GI', 'GI'], dtype=object)"
      ]
     },
     "execution_count": 190,
     "metadata": {},
     "output_type": "execute_result"
    }
   ],
   "source": [
    "jitz['gi/no_gi'].unique()"
   ]
  },
  {
   "cell_type": "code",
   "execution_count": 191,
   "metadata": {},
   "outputs": [],
   "source": [
    "jitz['gi/no_gi'] = jitz['gi/no_gi'].apply(lambda x: x.lower().strip())"
   ]
  },
  {
   "cell_type": "code",
   "execution_count": 192,
   "metadata": {},
   "outputs": [
    {
     "data": {
      "text/plain": [
       "array(['Blue', 'Advanced', 'white', 'Brown', 'Intermediate',\n",
       "       'intermediate', 'White', 'Novice', 'beginner', 'Beginner', 'blue',\n",
       "       'Purple', 'purple', 'novice', 'brown', 'advanced', 'Black',\n",
       "       'black', 'jvadv', 'jvint', '30+ Men', 'Blue ', 'Novice '],\n",
       "      dtype=object)"
      ]
     },
     "execution_count": 192,
     "metadata": {},
     "output_type": "execute_result"
    }
   ],
   "source": [
    "jitz['gi/no_gi'].unique()\n",
    "jitz['belt/skill'].unique()"
   ]
  },
  {
   "cell_type": "code",
   "execution_count": 193,
   "metadata": {},
   "outputs": [],
   "source": [
    "jitz['belt/skill'] = jitz['belt/skill'].apply(lambda x: x.lower().strip())\n",
    "jitz['division'] = jitz['division'].apply(lambda x: x.lower().strip().replace(\"'s\",''))\n",
    "jitz['submission'] = jitz['submission'].apply(lambda x: x.lower().strip())"
   ]
  },
  {
   "cell_type": "code",
   "execution_count": 194,
   "metadata": {},
   "outputs": [
    {
     "data": {
      "text/plain": [
       "array(['men', 'masters', 'women', 'juvenile'], dtype=object)"
      ]
     },
     "execution_count": 194,
     "metadata": {},
     "output_type": "execute_result"
    }
   ],
   "source": [
    "jitz['division'] = jitz['division'].apply(lambda x: 'masters' if '30' in x else x)\n",
    "jitz['division'].unique()"
   ]
  },
  {
   "cell_type": "code",
   "execution_count": 195,
   "metadata": {},
   "outputs": [],
   "source": [
    "# cleaning up the sumbission column\n",
    "jitz['submission'] = jitz['submission'].apply(lambda x: 'straight ankle' if 'ankle' in x else x)\n",
    "jitz['submission'] = jitz['submission'].apply(lambda x: 'bow & arrow' if 'bow' in x else x)\n",
    "jitz['submission'] = jitz['submission'].apply(lambda x: 'darce' if 'brabo' in x else x)\n",
    "jitz['submission'] = jitz['submission'].apply(lambda x: 'darce' if \"'d'arce\" in x else x)\n",
    "jitz['submission'] = jitz['submission'].apply(lambda x: 'toe hold' if 'hold' in x else x)\n",
    "jitz['submission'] = jitz['submission'].apply(lambda x: 'arm triangle' if 'head and arm' in x else x)\n",
    "jitz['submission'] = jitz['submission'].apply(lambda x: 'arm triangle' if 'head & arm' in x else x)\n",
    "jitz['submission'] = jitz['submission'].apply(lambda x: 'paper cutter' if 'paper' in x else x)\n",
    "jitz['submission'] = jitz['submission'].apply(lambda x: 'north south choke' if 'ns choke' in x else x)\n",
    "jitz['submission'] = jitz['submission'].apply(lambda x: 'na' if '?' in x else x)\n",
    "jitz['submission'] = jitz['submission'].apply(lambda x: 'paper cutter' if 'bread' in x else x)\n",
    "jitz['submission'] = jitz['submission'].apply(lambda x: 'paper cutter' if 'cutter' in x else x)\n",
    "jitz['submission'] = jitz['submission'].apply(lambda x: 'baseball bat choke' if 'baseball' in x else x)\n",
    "jitz['submission'] = jitz['submission'].apply(lambda x: 'knee bar' if 'knee' in x else x)\n",
    "jitz['submission'] = jitz['submission'].apply(lambda x: 'armbar' if 'arm' in x else x)\n",
    "jitz['submission'] = jitz['submission'].apply(lambda x: 'heel hook' if 'heel' in x else x)\n",
    "jitz['submission'] = jitz['submission'].apply(lambda x: 'collar choke' if 'cross choke' in x else x)\n",
    "jitz['submission'] = jitz['submission'].apply(lambda x: 'collar choke' if 'cross' in x else x)"
   ]
  },
  {
   "cell_type": "code",
   "execution_count": 212,
   "metadata": {},
   "outputs": [
    {
     "name": "stdout",
     "output_type": "stream",
     "text": [
      "armbar : 1607\n",
      "triangle : 667\n",
      "rnc : 511\n",
      "kimura : 497\n",
      "americana : 418\n",
      "straight ankle : 314\n",
      "guillotine : 248\n",
      "collar choke : 238\n",
      "ezekiel : 205\n",
      "bow & arrow : 199\n",
      "heel hook : 112\n",
      "knee bar : 109\n",
      "darce : 102\n",
      "choke : 78\n",
      "paper cutter : 75\n",
      "baseball bat choke : 54\n",
      "wristlock : 53\n",
      "lapel choke : 51\n",
      "shoulder lock : 48\n",
      "toe hold : 40\n",
      "omoplata : 36\n",
      "injury : 36\n",
      "north south choke : 29\n",
      "loop choke : 27\n",
      "dq : 26\n",
      "keylock : 25\n",
      "clock choke : 15\n",
      "pressure : 14\n",
      "verbal submission : 12\n",
      "d'arce : 12\n",
      "wrist lock : 11\n",
      "not written down : 10\n",
      "footlock : 9\n",
      "verbal tap : 8\n",
      "punch choke : 8\n",
      "north/south choke : 8\n",
      "forfeit : 7\n",
      "verbal sub : 6\n",
      "gi choke : 6\n",
      "calf slicer : 6\n",
      "single wing choke : 5\n",
      "anaconda : 5\n",
      "texas cloverleaf : 4\n",
      "side choke : 4\n",
      "gogoplata : 4\n",
      "exhaustion : 4\n",
      "smother : 3\n",
      "reverse triangle : 3\n",
      "peruvian necktie : 3\n",
      "not listed : 3\n",
      "neck crank : 3\n",
      "n/s choke : 3\n",
      "mounted triangle : 3\n",
      "leg scissor : 3\n",
      "giullotine : 3\n",
      "dq slam : 3\n",
      "unknown : 2\n",
      "twister : 2\n",
      "smothering : 2\n",
      "side control : 2\n",
      "scissor choke : 2\n",
      "ninja choke : 2\n",
      "neck tie : 2\n",
      "heek hook : 2\n",
      "headlock : 2\n",
      "foot lock : 2\n",
      "chicken wing : 2\n",
      "bulldog choke : 2\n",
      "body triangle : 2\n",
      "bell choke : 2\n",
      "back choke : 2\n",
      "anaconda choke : 2\n",
      "zip tie choke : 1\n",
      "zeke choke : 1\n",
      "wrist : 1\n",
      "vonflue choke : 1\n",
      "von flue choke : 1\n",
      "under the fence : 1\n",
      "twster : 1\n",
      "triangle mounted : 1\n",
      "triangle choke : 1\n",
      "toe hook : 1\n",
      "tko : 1\n",
      "tight package : 1\n",
      "texas clove leaf : 1\n",
      "technical : 1\n",
      "strangle choke : 1\n",
      "sore nose : 1\n",
      "sliding lapel choke : 1\n",
      "shoulder pressure : 1\n",
      "shoulder injury : 1\n",
      "reverse omoplata : 1\n",
      "razzle dazzle (bagels) : 1\n",
      "razor lock : 1\n",
      "patrone choke : 1\n",
      "orata plata : 1\n",
      "omaplata : 1\n",
      "north south choje : 1\n",
      "nightmare : 1\n",
      "necktie : 1\n",
      "mount pressure : 1\n",
      "monson choke : 1\n",
      "modified loop choke : 1\n",
      "lumber jack choke : 1\n",
      "leglock : 1\n",
      "leg lock : 1\n",
      "leg choke : 1\n",
      "kumura : 1\n",
      "key lock : 1\n",
      "kesa getame : 1\n",
      "inverted triangle : 1\n",
      "heak lock : 1\n",
      "head scissor : 1\n",
      "gift wrap : 1\n",
      "front choke : 1\n",
      "fist choke : 1\n",
      "finger choke : 1\n",
      "executioner choke : 1\n",
      "estima lock : 1\n",
      "dq strikes : 1\n",
      "double punch : 1\n",
      "crucifix : 1\n",
      "cramps : 1\n",
      "cramping : 1\n",
      "cramp : 1\n",
      "couldn't breathe : 1\n",
      "chicken wing choke : 1\n",
      "chest crush : 1\n",
      "bully choke : 1\n",
      "bravo : 1\n",
      "bradoplata : 1\n",
      "bicep slicer : 1\n",
      "banana split - dq : 1\n",
      "banana split : 1\n",
      "back chop : 1\n",
      "ambar : 1\n",
      "achilles lock : 1\n",
      "2x4 choke : 1\n",
      "\"crazy ass choke\" - shaun kennedy : 1\n",
      "\"box choke\" : 1\n"
     ]
    }
   ],
   "source": [
    "# creating frequency chart for submissions\n",
    "submission_frequency = {}\n",
    "for submission in jitz['submission']:\n",
    "    if submission not in submission_frequency:\n",
    "        submission_frequency[submission] = 1\n",
    "    else:\n",
    "        submission_frequency[submission] += 1\n",
    "sorted_submissions = []\n",
    "for sub in submission_frequency:\n",
    "    sorted_submissions.append([submission_frequency[sub], sub])\n",
    "sorted_submissions = sorted(sorted_submissions,reverse=True)\n",
    "sorted_submissions = [x for x in sorted_submissions if x[1] != 'na']\n",
    "for sub in sorted_submissions:\n",
    "    print(sub[1], ':', sub[0])"
   ]
  },
  {
   "cell_type": "code",
   "execution_count": 197,
   "metadata": {},
   "outputs": [
    {
     "data": {
      "text/html": [
       "<div>\n",
       "<style scoped>\n",
       "    .dataframe tbody tr th:only-of-type {\n",
       "        vertical-align: middle;\n",
       "    }\n",
       "\n",
       "    .dataframe tbody tr th {\n",
       "        vertical-align: top;\n",
       "    }\n",
       "\n",
       "    .dataframe thead th {\n",
       "        text-align: right;\n",
       "    }\n",
       "</style>\n",
       "<table border=\"1\" class=\"dataframe\">\n",
       "  <thead>\n",
       "    <tr style=\"text-align: right;\">\n",
       "      <th></th>\n",
       "      <th>time(seconds)</th>\n",
       "      <th>gi/no_gi</th>\n",
       "      <th>belt/skill</th>\n",
       "      <th>division</th>\n",
       "      <th>submission</th>\n",
       "    </tr>\n",
       "  </thead>\n",
       "  <tbody>\n",
       "    <tr>\n",
       "      <th>0</th>\n",
       "      <td>5.0</td>\n",
       "      <td>gi</td>\n",
       "      <td>blue</td>\n",
       "      <td>men</td>\n",
       "      <td>straight ankle</td>\n",
       "    </tr>\n",
       "    <tr>\n",
       "      <th>1</th>\n",
       "      <td>7.0</td>\n",
       "      <td>no gi</td>\n",
       "      <td>advanced</td>\n",
       "      <td>men</td>\n",
       "      <td>darce</td>\n",
       "    </tr>\n",
       "    <tr>\n",
       "      <th>2</th>\n",
       "      <td>8.0</td>\n",
       "      <td>gi</td>\n",
       "      <td>white</td>\n",
       "      <td>masters</td>\n",
       "      <td>armbar</td>\n",
       "    </tr>\n",
       "    <tr>\n",
       "      <th>3</th>\n",
       "      <td>9.0</td>\n",
       "      <td>gi</td>\n",
       "      <td>brown</td>\n",
       "      <td>men</td>\n",
       "      <td>darce</td>\n",
       "    </tr>\n",
       "    <tr>\n",
       "      <th>4</th>\n",
       "      <td>9.0</td>\n",
       "      <td>gi</td>\n",
       "      <td>blue</td>\n",
       "      <td>men</td>\n",
       "      <td>straight ankle</td>\n",
       "    </tr>\n",
       "    <tr>\n",
       "      <th>...</th>\n",
       "      <td>...</td>\n",
       "      <td>...</td>\n",
       "      <td>...</td>\n",
       "      <td>...</td>\n",
       "      <td>...</td>\n",
       "    </tr>\n",
       "    <tr>\n",
       "      <th>6154</th>\n",
       "      <td>612.0</td>\n",
       "      <td>gi</td>\n",
       "      <td>white</td>\n",
       "      <td>men</td>\n",
       "      <td>armbar</td>\n",
       "    </tr>\n",
       "    <tr>\n",
       "      <th>6155</th>\n",
       "      <td>113.0</td>\n",
       "      <td>gi</td>\n",
       "      <td>white</td>\n",
       "      <td>men</td>\n",
       "      <td>kimura</td>\n",
       "    </tr>\n",
       "    <tr>\n",
       "      <th>6156</th>\n",
       "      <td>90.0</td>\n",
       "      <td>gi</td>\n",
       "      <td>white</td>\n",
       "      <td>men</td>\n",
       "      <td>collar choke</td>\n",
       "    </tr>\n",
       "    <tr>\n",
       "      <th>6157</th>\n",
       "      <td>165.0</td>\n",
       "      <td>gi</td>\n",
       "      <td>white</td>\n",
       "      <td>men</td>\n",
       "      <td>collar choke</td>\n",
       "    </tr>\n",
       "    <tr>\n",
       "      <th>6158</th>\n",
       "      <td>59.0</td>\n",
       "      <td>gi</td>\n",
       "      <td>white</td>\n",
       "      <td>men</td>\n",
       "      <td>triangle</td>\n",
       "    </tr>\n",
       "  </tbody>\n",
       "</table>\n",
       "<p>6159 rows × 5 columns</p>\n",
       "</div>"
      ],
      "text/plain": [
       "      time(seconds) gi/no_gi belt/skill division      submission\n",
       "0               5.0       gi       blue      men  straight ankle\n",
       "1               7.0    no gi   advanced      men           darce\n",
       "2               8.0       gi      white  masters          armbar\n",
       "3               9.0       gi      brown      men           darce\n",
       "4               9.0       gi       blue      men  straight ankle\n",
       "...             ...      ...        ...      ...             ...\n",
       "6154          612.0       gi      white      men          armbar\n",
       "6155          113.0       gi      white      men          kimura\n",
       "6156           90.0       gi      white      men    collar choke\n",
       "6157          165.0       gi      white      men    collar choke\n",
       "6158           59.0       gi      white      men        triangle\n",
       "\n",
       "[6159 rows x 5 columns]"
      ]
     },
     "execution_count": 197,
     "metadata": {},
     "output_type": "execute_result"
    }
   ],
   "source": [
    "jitz"
   ]
  },
  {
   "cell_type": "markdown",
   "metadata": {},
   "source": [
    "The data is now cleaned, time to analyze."
   ]
  },
  {
   "cell_type": "code",
   "execution_count": 198,
   "metadata": {},
   "outputs": [],
   "source": [
    "jitz_men = jitz[jitz['division'] == 'men']\n",
    "jitz_women = jitz[jitz['division'] == 'women']"
   ]
  },
  {
   "cell_type": "code",
   "execution_count": 199,
   "metadata": {},
   "outputs": [
    {
     "name": "stdout",
     "output_type": "stream",
     "text": [
      "Average match time:  8.44  minutes.\n",
      "Average match time for men:  8.27  minutes.\n",
      "Average match time for women:  8.61  minutes.\n"
     ]
    }
   ],
   "source": [
    "# average match times\n",
    "average_time = jitz['time(seconds)'].mean()\n",
    "average_time_men = jitz_men['time(seconds)'].mean()\n",
    "average_time_women = jitz_women['time(seconds)'].mean()\n",
    "print('Average match time: ', round(average_time/60, 2), ' minutes.')\n",
    "print('Average match time for men: ',round(average_time_men/60,2), ' minutes.')\n",
    "print('Average match time for women: ',round(average_time_women/60,2), ' minutes.')"
   ]
  },
  {
   "cell_type": "code",
   "execution_count": 200,
   "metadata": {},
   "outputs": [
    {
     "name": "stdout",
     "output_type": "stream",
     "text": [
      "GI MATCHES\n",
      "Number of white belts:  1370  Percentage:  45.14 %\n",
      "Number of blue belts:  955  Percentage:  31.47 %\n",
      "Number of purple belts:  455  Percentage:  14.99 %\n",
      "Number of brown belts:  142  Percentage:  4.68 %\n",
      "Number of black belts:  104  Percentage:  3.43 %\n",
      "NO GI MATCHES\n",
      "Number of beginners:  934  Percentage:  29.98 %\n",
      "Number of novices:  383  Percentage:  12.3 %\n",
      "Number of intermediate:  1080  Percentage:  34.67 %\n",
      "Number of advanced:  718  Percentage:  23.05 %\n"
     ]
    }
   ],
   "source": [
    "# Number of people in each belt/skill level\n",
    "no_gi = jitz[jitz['gi/no_gi'] == 'no gi']\n",
    "gi = jitz[jitz['gi/no_gi'] == 'gi']\n",
    "#belts\n",
    "white = jitz[jitz['belt/skill'] == 'white']\n",
    "blue = jitz[jitz['belt/skill'] == 'blue']\n",
    "purple = jitz[jitz['belt/skill'] == 'purple']\n",
    "brown = jitz[jitz['belt/skill'] == 'brown']\n",
    "black = jitz[jitz['belt/skill'] == 'black']\n",
    "#no_gi\n",
    "novice = jitz[jitz['belt/skill'] == 'novice']\n",
    "beginner = jitz[jitz['belt/skill'] == 'beginner']\n",
    "intermediate = jitz[jitz['belt/skill'] == 'intermediate']\n",
    "advanced = jitz[jitz['belt/skill'] == 'advanced']\n",
    "print('GI MATCHES')\n",
    "print('Number of white belts: ', len(white), ' Percentage: ', round(((len(white)/len(gi))*100), 2), '%')\n",
    "print('Number of blue belts: ', len(blue), ' Percentage: ', round(((len(blue)/len(gi))*100), 2), '%')\n",
    "print('Number of purple belts: ', len(purple), ' Percentage: ', round(((len(purple)/len(gi))*100), 2), '%')\n",
    "print('Number of brown belts: ', len(brown), ' Percentage: ', round(((len(brown)/len(gi))*100), 2), '%')\n",
    "print('Number of black belts: ', len(black), ' Percentage: ', round(((len(black)/len(gi))*100), 2), '%')\n",
    "print('NO GI MATCHES')\n",
    "print('Number of beginners: ', len(beginner), ' Percentage: ', round(((len(beginner)/len(no_gi))*100), 2), '%')\n",
    "print('Number of novices: ', len(novice), ' Percentage: ', round(((len(novice)/len(no_gi))*100), 2), '%')\n",
    "print('Number of intermediate: ', len(intermediate), ' Percentage: ', round(((len(intermediate)/len(no_gi))*100), 2), '%')\n",
    "print('Number of advanced: ', len(advanced), ' Percentage: ', round(((len(advanced)/len(no_gi))*100), 2), '%')"
   ]
  },
  {
   "cell_type": "code",
   "execution_count": 213,
   "metadata": {},
   "outputs": [
    {
     "data": {
      "image/png": "[encoded data removed]",
      "text/plain": [
       "<Figure size 1080x720 with 1 Axes>"
      ]
     },
     "metadata": {
      "needs_background": "light"
     },
     "output_type": "display_data"
    }
   ],
   "source": [
    "submissions = [x[1] for x in sorted_submissions]\n",
    "submission_amounts = [x[0] for x in sorted_submissions]\n",
    "plt.figure(figsize=(15,10))\n",
    "plt.bar(submissions[:21], submission_amounts[:21])\n",
    "plt.xticks(rotation=45)\n",
    "plt.title('Top Submissions')\n",
    "plt.show()"
   ]
  },
  {
   "cell_type": "code",
   "execution_count": 216,
   "metadata": {},
   "outputs": [],
   "source": [
    "# Seperating submissions between gi and no gi\n",
    "no_gi_submission = {}\n",
    "for submission in no_gi['submission']:\n",
    "    if submission not in no_gi_submission:\n",
    "        no_gi_submission[submission] = 1\n",
    "    else:\n",
    "        no_gi_submission[submission] += 1\n",
    "sorted_no_gi_submissions = []\n",
    "for sub in no_gi_submission:\n",
    "    sorted_no_gi_submissions.append([no_gi_submission[sub], sub])\n",
    "sorted_no_gi_submissions = sorted(sorted_no_gi_submissions,reverse=True)\n",
    "\n",
    "gi_submission = {}\n",
    "for submission in gi['submission']:\n",
    "    if submission not in gi_submission:\n",
    "        gi_submission[submission] = 1\n",
    "    else:\n",
    "        gi_submission[submission] += 1\n",
    "sorted_gi_submissions = []\n",
    "for sub in gi_submission:\n",
    "    sorted_gi_submissions.append([gi_submission[sub], sub])\n",
    "sorted_gi_submissions = sorted(sorted_gi_submissions,reverse=True)\n",
    "\n",
    "sorted_no_gi_submissions = [x for x in sorted_no_gi_submissions if x[1] != 'na']\n"
   ]
  },
  {
   "cell_type": "code",
   "execution_count": 233,
   "metadata": {},
   "outputs": [
    {
     "data": {
      "image/png": "[encoded data removed]",
      "text/plain": [
       "<Figure size 1080x720 with 1 Axes>"
      ]
     },
     "metadata": {
      "needs_background": "light"
     },
     "output_type": "display_data"
    }
   ],
   "source": [
    "submissions = [x[1] for x in sorted_no_gi_submissions]\n",
    "submission_amounts = [x[0] for x in sorted_no_gi_submissions]\n",
    "plt.figure(figsize=(15,10))\n",
    "plt.bar(submissions[:14], submission_amounts[:14])\n",
    "plt.xticks(rotation=45)\n",
    "plt.title('Top No Gi Submissions')\n",
    "plt.rc('xtick', labelsize=15)\n",
    "plt.rc('ytick', labelsize=15)\n",
    "plt.show()"
   ]
  },
  {
   "cell_type": "code",
   "execution_count": 234,
   "metadata": {},
   "outputs": [
    {
     "data": {
      "image/png": "[encoded data removed]",
      "text/plain": [
       "<Figure size 1080x720 with 1 Axes>"
      ]
     },
     "metadata": {
      "needs_background": "light"
     },
     "output_type": "display_data"
    }
   ],
   "source": [
    "submissions = [x[1] for x in sorted_gi_submissions]\n",
    "submission_amounts = [x[0] for x in sorted_gi_submissions]\n",
    "plt.figure(figsize=(15,10))\n",
    "plt.bar(submissions[:14], submission_amounts[:14])\n",
    "plt.xticks(rotation=45)\n",
    "plt.title('Top Gi Submissions')\n",
    "plt.rc('xtick', labelsize=15)\n",
    "plt.rc('ytick', labelsize=15)\n",
    "plt.show()"
   ]
  },
  {
   "cell_type": "code",
   "execution_count": 235,
   "metadata": {},
   "outputs": [
    {
     "data": {
      "text/plain": [
       "6159"
      ]
     },
     "execution_count": 235,
     "metadata": {},
     "output_type": "execute_result"
    }
   ],
   "source": [
    "len(jitz)"
   ]
  }
 ],
 "metadata": {
  "kernelspec": {
   "display_name": "Python 3",
   "language": "python",
   "name": "python3"
  },
  "language_info": {
   "codemirror_mode": {
    "name": "ipython",
    "version": 3
   },
   "file_extension": ".py",
   "mimetype": "text/x-python",
   "name": "python",
   "nbconvert_exporter": "python",
   "pygments_lexer": "ipython3",
   "version": "3.7.9"
  }
 },
 "nbformat": 4,
 "nbformat_minor": 4
}
